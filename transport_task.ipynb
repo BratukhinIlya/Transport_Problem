{
 "cells": [
  {
   "cell_type": "markdown",
   "id": "c72801bb-589e-49d1-ba1e-69e756dc2042",
   "metadata": {},
   "source": [
    "# Задача транспортировки офисных кресел\n",
    "\n",
    "***Переменные***\n",
    "\n",
    "\\\\( x_{ij} \\\\) — количество единиц товара, отправляемых из пункта \\\\( A \\\\) (Омск, Новосибирск, Томск) в пункт \\\\( B \\\\) (Нижний Новгород, Пермь, Краснодар).  \n",
    "\n",
    "- \\\\( x_{11}, x_{12}, x_{13} \\\\) — поставки из Омска  \n",
    "- \\\\( x_{21}, x_{22}, x_{23} \\\\) — поставки из Новосибирска  \n",
    "- \\\\( x_{31}, x_{32}, x_{33} \\\\) — поставки из Томска  \n",
    "\n",
    "***Целевая функция (минимизация транспортных затрат):***\n",
    "\n",
    "\\\\[\n",
    "Z = 4883x_{11} + 4280x_{12} + 6213x_{13} + 5327x_{21} + 4296x_{22} + 6188x_{23} + 6006x_{31} + 5030x_{32} + 7224x_{33}  -> \\min\n",
    "\\\\]\n",
    "\n",
    "***Ограничения по производственным мощностям:***  \n",
    "\n",
    "\\\\[\n",
    "x_{11} + x_{12} + x_{13} = 2000 - Омск\n",
    "\\\\]  \n",
    "\\\\[\n",
    "x_{21} + x_{22} + x_{23} = 1000 - Новосибирск\n",
    "\\\\]  \n",
    "\\\\[\n",
    "x_{31} + x_{32} + x_{33} = 1700 - Томск\n",
    "\\\\]  \n",
    "\n",
    "***Ограничения по потребностям:***\n",
    "\n",
    "\\\\[\n",
    "x_{11} + x_{21} + x_{31} = 1400 - Нижний Новгород\n",
    "\\\\]  \n",
    "\\\\[\n",
    "x_{12} + x_{22} + x_{32} = 1700 - Пермь\n",
    "\\\\]  \n",
    "\\\\[\n",
    "x_{13} + x_{23} + x_{33} = 1600 - Краснодар\n",
    "\\\\]  \n",
    "\n",
    "***Условия неотрицательности:***  \n",
    "\\\\[\n",
    "x_{ij} >= 0\n",
    "\\\\]  \n",
    "\n",
    "***Стоимость перевозки за единицу товара из пунктов отправки в пункты назначения (в рублях):***  \n",
    "\n",
    "| Откуда → Куда      | Нижний Новгород | Пермь | Краснодар |\n",
    "|-------------------|----------------|-------|-----------|\n",
    "| **Омск**           | 4883            | 4280  | 6213      |\n",
    "| **Новосибирск**    | 5327            | 4296  | 6188      |\n",
    "| **Томск**          | 6006            | 5030  | 7224      |\n"
   ]
  },
  {
   "cell_type": "code",
   "execution_count": 7,
   "id": "e8e34906-0044-438f-a97c-244869070bc6",
   "metadata": {},
   "outputs": [],
   "source": [
    "def northwest_corner_method(supply, demand):\n",
    "    supply = supply.copy()\n",
    "    demand = demand.copy()\n",
    "    rows, cols = len(supply), len(demand)\n",
    "    allocation = np.zeros((rows, cols), dtype=int)\n",
    "\n",
    "    i, j = 0, 0\n",
    "    while i < rows and j < cols:\n",
    "        allocated = min(supply[i], demand[j]) #Определяем максимально возможную поставку для текущего поставщика и потребителя\n",
    "        allocation[i, j] = allocated\n",
    "        supply[i] -= allocated\n",
    "        demand[j] -= allocated\n",
    "\n",
    "        if supply[i] == 0:\n",
    "            i += 1\n",
    "        elif demand[j] == 0:\n",
    "            j += 1\n",
    "    return allocation"
   ]
  },
  {
   "cell_type": "markdown",
   "id": "6b3a4006-3b92-423d-abe0-fabd84611f76",
   "metadata": {},
   "source": [
    "Метод **северозападного угла**. Определяет первый базисный план - `allocation`"
   ]
  },
  {
   "cell_type": "code",
   "execution_count": 9,
   "id": "f0e47a07-5a7f-4b9b-974f-72333e3256e7",
   "metadata": {},
   "outputs": [],
   "source": [
    "def calculate_cost(cost_matrix, allocation):\n",
    "    total_cost = np.sum(cost_matrix * allocation)\n",
    "    return total_cost"
   ]
  },
  {
   "cell_type": "markdown",
   "id": "d6b24a31-13e0-4c52-b045-95482d71701c",
   "metadata": {},
   "source": [
    "Перемножаем матрицы и возвращаем **начальную стоимость перевозки**, которую нам надо оптимизировать"
   ]
  },
  {
   "cell_type": "code",
   "execution_count": 53,
   "id": "98d7d9aa-4c66-4f01-adb7-1f010c45c094",
   "metadata": {},
   "outputs": [],
   "source": [
    "def potentials_method(cost_matrix, allocation):\n",
    "    rows, cols = cost_matrix.shape\n",
    "    u = np.full(rows, None)\n",
    "    v = np.full(cols, None)\n",
    "    optimal_matrix = np.full((rows, cols), 0)\n",
    "    u[0] = 0\n",
    "    u, v, optimal_matrix = calculate_potentials(allocation, cost_matrix)# Оценка стоимости для небазисных\n",
    "    delta = np.full((rows, cols), 0)\n",
    "    for i in range(rows):\n",
    "        for j in range(cols):\n",
    "            if allocation[i, j] == 0:\n",
    "                optimal_matrix[i, j] = cost_matrix[i, j] - (u[i] + v[j])\n",
    "                delta[i, j] = (u[i] + v[j]) - cost_matrix[i, j]\n",
    "    print()\n",
    "    print(f\"U{u}\")\n",
    "    print(f\"V{v}\")\n",
    "    print(f\"Матрица для проверки\\n{optimal_matrix}\")\n",
    "    print()\n",
    "    if np.all(optimal_matrix >= 0):\n",
    "        return allocation, calculate_cost(cost_matrix, allocation)\n",
    "    while np.any(optimal_matrix < 0):\n",
    "            allocation = optimize_allocation(allocation, delta)\n",
    "            print(allocation)\n",
    "            u, v, optimal_matrix = calculate_potentials(allocation, cost_matrix)\n",
    "            print()\n",
    "            print(f\"U{u}\")\n",
    "            print(f\"V{v}\")\n",
    "            print(f\"Матрица для проверки\\n{optimal_matrix}\")\n",
    "            print()\n",
    "            delta = calculate_delta(cost_matrix, u, v)\n",
    "    return allocation, calculate_cost(cost_matrix, allocation)"
   ]
  },
  {
   "cell_type": "markdown",
   "id": "bb3f3f38-2981-4687-806b-cbdbfaba8d06",
   "metadata": {},
   "source": [
    "Здесь представлен **метод потенциалов**. Мы заполняем потенциалы значениями None, а оптимальную матрицу - нулями. После чего вычисляем потенциалы и оптимальную матрицу (которую будем улучшать) с помощью метода `calculate_potentials`. Далее заполняем массив `delta` нулями. Она нам поможет понять какие клетки в оптимальной матрице стоит изменить. Вычисляем `delta` как разность потенциалов и стоимости, чтобы понять, нужно ли менять распределение. Далее проверяем все элементы оптимальной матрицы и взависимости есть ли отрицательные или нет, выполняются различные условия"
   ]
  },
  {
   "cell_type": "code",
   "execution_count": 43,
   "id": "758cded3-aa9d-4462-8bca-f16508508eb6",
   "metadata": {},
   "outputs": [],
   "source": [
    "def find_cycle(allocation, start):\n",
    "    rows, cols = allocation.shape\n",
    "    visited = set()\n",
    "    path = []\n",
    "\n",
    "    def dfs(node, direction):\n",
    "        if node in visited:\n",
    "            # Если цикл найден, возвращаем его\n",
    "            if node == start:\n",
    "                path.append(node)\n",
    "                return True\n",
    "            return False\n",
    "\n",
    "        visited.add(node)\n",
    "        path.append(node)\n",
    "        i, j = node\n",
    "\n",
    "        if direction == \"row\":\n",
    "            for col in range(cols):\n",
    "                if (allocation[i, col] > 0 and (i, col) != node) or (i, col) == start:\n",
    "                    if dfs((i, col), \"col\"):\n",
    "                        return True\n",
    "        elif direction == \"col\":\n",
    "            for row in range(rows):\n",
    "                if (allocation[row, j] > 0 and (row, j) != node) or (row, j) == start:\n",
    "                    if dfs((row, j), \"row\"):\n",
    "                        return True\n",
    "\n",
    "        # Удаляем узел, если он не часть цикла\n",
    "        path.pop()\n",
    "        return False\n",
    "\n",
    "    # Запускаем поиск цикла\n",
    "    found = dfs(start, \"row\")\n",
    "\n",
    "    # Возвращаем цикл, если он найден\n",
    "    if found and path[0] == path[-1]:\n",
    "        path.pop()\n",
    "        print()\n",
    "        print(f\"Путь{path}\")\n",
    "        return path\n",
    "    return None"
   ]
  },
  {
   "cell_type": "markdown",
   "id": "9471389c-ed14-4826-b62d-e951f47b6dc5",
   "metadata": {},
   "source": [
    "Метод `find_cycle` ищет **цикл перераспределения** в матрице `allocation` начиная с заданной точки `start`. Вложенная функция `dfs` реализует рекурсивный рекурсивный обход для поиска цикла (поиск в глубину - `DFS`). В функции проверяем в начале старт или нет, затем, если мы не в начальной точке, то проверяем сначала по строкам и столбцам наш путь, если условие выполнено метод будет вызывать сам себя. Затем удаляем узел, если он не часть цикла и возвращаем `False`. Ну и в итоге мы возвращаем либо `None`, либо `путь как список координат`"
   ]
  },
  {
   "cell_type": "code",
   "execution_count": 17,
   "id": "71d4d150-5648-4be0-9118-33f7cfb3b1d9",
   "metadata": {},
   "outputs": [],
   "source": [
    "def optimize_allocation(allocation, delta):\n",
    "    i, j = np.unravel_index(np.argmax(delta), delta.shape)\n",
    "    cycle = find_cycle(allocation, (i, j))\n",
    "    if not cycle:\n",
    "        raise ValueError(\"Цикл не найден, что-то пошло не так.\")\n",
    "\n",
    "    # Чередование знаков: '+' для увеличения, '-' для уменьшения\n",
    "    signs = [1 if k % 2 == 0 else -1 for k in range(len(cycle))]\n",
    "    values = [allocation[x, y] for (x, y), sign in zip(cycle, signs) if sign == -1]\n",
    "    theta = min(values)  # Минимум из клеток с '-' знаком\n",
    "    # Обновление плана\n",
    "    for (x, y), sign in zip(cycle, signs):\n",
    "        allocation[x, y] += sign * theta\n",
    "    return allocation"
   ]
  },
  {
   "cell_type": "markdown",
   "id": "6093786e-48e9-44e0-b304-f39b86c8c547",
   "metadata": {},
   "source": [
    "Эта функция **улучшает текущее распределение перевозок** - `allocation`. Она отвечает за корректировку перевозок таким образом, чтобы минимизировать суммарные затраты. Здесь мы находим `ячейку`, которая даёт наибольший выигрыш (`delta` — это матрица разностей между стоимостью и потенциалами). Мы должны пересчитать количество груза в ячейках цикла, следуя правилам метода потенциалов: чередуем знаки `+` и `-`. Это значит мы добавляем груз в клетки с плюсом и убираем из клеток с минусом. Далее мы выбираем все клетки цикла, из которых груз будет изыматься (sign == -1), и берём их текущие значения из `allocation`. Находим минимум со знаком минус и перераспределяем груз по циклу: увеличиваем/уменьшаем `allocation[i, j]` если `sign = +1/-1`"
   ]
  },
  {
   "cell_type": "code",
   "execution_count": 19,
   "id": "df29abd7-9454-441e-b06a-e9efbd928268",
   "metadata": {},
   "outputs": [],
   "source": [
    "def calculate_potentials(allocation, cost_matrix):\n",
    "    rows, cols = cost_matrix.shape\n",
    "\n",
    "    u = np.full(rows, None)\n",
    "    v = np.full(cols, None)\n",
    "    u[0] = 0  # Начинаем с первого элемента\n",
    "\n",
    "    # Основной цикл для вычисления потенциалов\n",
    "    while None in u or None in v:\n",
    "        progress = False  # Флаг для отслеживания изменений\n",
    "        for i in range(rows):\n",
    "            for j in range(cols):\n",
    "                if allocation[i, j] > 0:  # Базисная клетка\n",
    "                    if u[i] is not None and v[j] is None:\n",
    "                        v[j] = cost_matrix[i, j] - u[i]\n",
    "                        progress = True\n",
    "                    elif v[j] is not None and u[i] is None:\n",
    "                        u[i] = cost_matrix[i, j] - v[j]\n",
    "                        progress = True\n",
    "\n",
    "\n",
    "        # Если потенциалы не обновились, нужно использовать эвристику\n",
    "        if not progress:\n",
    "            min_cost, min_posit = find_min_cost_with_none(u, v, cost_matrix)\n",
    "            if u[min_posit[0]] is not None and v[min_posit[1]] is None:\n",
    "                v[min_posit[1]] = cost_matrix[min_posit[0], min_posit[1]] - u[min_posit[0]]\n",
    "            elif u[min_posit[0]] is None and v[min_posit[1]] is not None:\n",
    "                u[min_posit[0]] = cost_matrix[min_posit[0], min_posit[1]] - v[min_posit[1]]\n",
    "            else: u[min_posit[0]] = 0\n",
    "\n",
    "    # Оценка стоимости для небазисных клеток\n",
    "    optimal_matrix = np.zeros((rows, cols))\n",
    "    for i in range(rows):\n",
    "        for j in range(cols):\n",
    "            if allocation[i, j] == 0:\n",
    "                optimal_matrix[i, j] = cost_matrix[i, j] - (u[i] + v[j])\n",
    "\n",
    "    return u, v, optimal_matrix"
   ]
  },
  {
   "cell_type": "markdown",
   "id": "cbccd577-550f-4f16-9bec-9374251c3fba",
   "metadata": {},
   "source": [
    "Эта функция **вычисляет потенциалы `u` и `v`** в методе потенциалов. Потенциалы помогают определить, является ли текущее распределение грузов оптимальным. Если нет, они позволяют вычислить оценки для небазисных клеток и скорректировать план. С помощью вложенных циклов проверяем каждый элемент из `allocation`, она должна быть больше нуля. Если u[i] уже известно, а v[j] нет, то вычисляем v[j]: v[j] = $c_ij$ - u[i]. Если v[j] уже известно, а u[i] нет, то вычисляем u[i]: u[i] = $c_ij$ − v[j]. Если потенциалы не обновились используем эвристику: нужно задать начальное значение для одного из None. Вызываем функцию `find_min_cost_with_none()`, которая ищет ячейку с минимальной стоимостью перевозки и Возвращает её координаты. Потом перебираем все небазисные клетки в `allocation` и вычисляем их оценки. Возвращает потенциалы поставщиков и потребителей и оценки небазисных клеток."
   ]
  },
  {
   "cell_type": "code",
   "execution_count": 21,
   "id": "c899edd5-01f6-4c37-a683-ef71d9c4760e",
   "metadata": {},
   "outputs": [],
   "source": [
    "def find_min_cost_with_none(u, v, cost_matrix):\n",
    "    rows, cols = cost_matrix.shape\n",
    "    min_cost = float('inf')\n",
    "    min_cost_position = (-1, -1)\n",
    "\n",
    "    # Ищем минимальную стоимость среди клеток, где u или v равны None\n",
    "    for i in range(rows):\n",
    "        for j in range(cols):\n",
    "            if u[i] is None or v[j] is None:\n",
    "                if cost_matrix[i, j] < min_cost:\n",
    "                    min_cost = cost_matrix[i, j]\n",
    "                    min_cost_position = (i, j)\n",
    "\n",
    "    return min_cost, min_cost_position"
   ]
  },
  {
   "cell_type": "markdown",
   "id": "76fb106a-dc61-4402-92cf-3b7f32f015c8",
   "metadata": {},
   "source": [
    "Используется для **поиска ячейки с минимальной стоимостью перевозки** среди тех, где хотя бы один из потенциалов ещё не вычислен. Она применяется в методе потенциалов, когда стандартное вычисление `u` и `v` не может продолжиться. Перебираем все ячейки `cost_matrix`. Если хотя бы один из потенциалов u[i] или v[j] ещё не определён (None), то рассматриваем эту ячейку. Если оба потенциала уже известны, эту ячейку пропускаем, так как она не нужна для начальной инициализации. Если текущая стоимость перевозки `cost_matrix[i, j]` меньше текущего min_cost, обновляем: `min_cost = cost_matrix[i, j]` (новая минимальная стоимость). `min_cost_position = (i, j)` (координаты этой стоимости)."
   ]
  },
  {
   "cell_type": "code",
   "execution_count": 23,
   "id": "356dbeb2-1889-409f-ae4f-3e42aba5d33b",
   "metadata": {},
   "outputs": [],
   "source": [
    "def calculate_delta(cost_matrix, u, v):\n",
    "    rows, cols = cost_matrix.shape\n",
    "\n",
    "    delta = np.full((rows, cols), None)\n",
    "    for i in range(rows):\n",
    "        for j in range(cols):\n",
    "            delta[i, j] = (u[i] + v[j]) - cost_matrix[i, j]\n",
    "    return delta"
   ]
  },
  {
   "cell_type": "markdown",
   "id": "9c17ec84-f5a1-4479-8864-fc1387d2d6b3",
   "metadata": {},
   "source": [
    "Эта функция вычисляет **матрицу оценок (дельта)**, которая показывает, насколько текущий план распределения отклоняется от оптимального. Если дельта:\n",
    "\n",
    "Больше 0 → перевозка в эту ячейку невыгодна.\n",
    "\n",
    "Равна 0 → перевозка оптимальна.\n",
    "\n",
    "Меньше 0 → выгоднее переместить груз сюда."
   ]
  },
  {
   "cell_type": "code",
   "execution_count": 25,
   "id": "20056d1c-f62f-4768-a718-005a639cd7ae",
   "metadata": {},
   "outputs": [],
   "source": [
    "import numpy as np\n",
    "supply = [2000, 1000, 1700]\n",
    "demand = [1400, 1700, 1600]\n",
    "cost_matrix = np.array([\n",
    "    [4883, 4280, 6213],\n",
    "    [5327, 4296, 6198],\n",
    "    [6006, 5030, 7224]\n",
    "])"
   ]
  },
  {
   "cell_type": "code",
   "execution_count": 55,
   "id": "1d3b5ad9-660f-4dc0-a7cb-d83bd80b29ad",
   "metadata": {},
   "outputs": [
    {
     "name": "stdout",
     "output_type": "stream",
     "text": [
      "Начальный опорный план:\n"
     ]
    },
    {
     "data": {
      "text/plain": [
       "array([[1400,  600,    0],\n",
       "       [   0, 1000,    0],\n",
       "       [   0,  100, 1600]])"
      ]
     },
     "execution_count": 55,
     "metadata": {},
     "output_type": "execute_result"
    }
   ],
   "source": [
    "initial_allocation = northwest_corner_method(supply, demand)\n",
    "print(\"Начальный опорный план:\")\n",
    "initial_allocation"
   ]
  },
  {
   "cell_type": "code",
   "execution_count": 57,
   "id": "9bf6aa06-ea67-4fae-99d0-fe588f1cd537",
   "metadata": {},
   "outputs": [
    {
     "name": "stdout",
     "output_type": "stream",
     "text": [
      "Стоимость начального плана: 25761600\n"
     ]
    }
   ],
   "source": [
    "# Шаг 2: Стоимость начального плана\n",
    "initial_cost = calculate_cost(cost_matrix, initial_allocation)\n",
    "print(f\"Стоимость начального плана: {initial_cost}\")"
   ]
  },
  {
   "cell_type": "code",
   "execution_count": 59,
   "id": "b435b69a-a0f0-4904-b5a3-d99cec5af1ee",
   "metadata": {},
   "outputs": [
    {
     "name": "stdout",
     "output_type": "stream",
     "text": [
      "\n",
      "U[0 16 750]\n",
      "V[4883 4280 6474]\n",
      "Матрица для проверки\n",
      "[[   0.    0. -261.]\n",
      " [ 428.    0. -292.]\n",
      " [ 373.    0.    0.]]\n",
      "\n",
      "Путь[(1, 2), (1, 1), (2, 1), (2, 2)]\n",
      "[[1400  600    0]\n",
      " [   0    0 1000]\n",
      " [   0 1100  600]]\n",
      "\n",
      "U[0 -276 750]\n",
      "V[4883 4280 6474]\n",
      "Матрица для проверки\n",
      "[[   0.    0. -261.]\n",
      " [ 720.  292.    0.]\n",
      " [ 373.    0.    0.]]\n",
      "\n",
      "Путь[(0, 2), (0, 1), (2, 1), (2, 2)]\n",
      "[[1400    0  600]\n",
      " [   0    0 1000]\n",
      " [   0 1700    0]]\n",
      "\n",
      "U[0 -15 750]\n",
      "V[4883 4280 6213]\n",
      "Матрица для проверки\n",
      "[[  0.   0.   0.]\n",
      " [459.  31.   0.]\n",
      " [373.   0. 261.]]\n",
      "\n",
      "Оптимальный план:\n",
      "[[1400    0  600]\n",
      " [   0    0 1000]\n",
      " [   0 1700    0]]\n",
      "Минимальная стоимость перевозки: 25313000\n"
     ]
    }
   ],
   "source": [
    "# # Шаг 3: Метод потенциалов для оптимизации\n",
    "optimal_allocation, optimal_cost = potentials_method(cost_matrix, initial_allocation)\n",
    "print(\"Оптимальный план:\")\n",
    "print(optimal_allocation)\n",
    "print(f\"Минимальная стоимость перевозки: {optimal_cost}\")"
   ]
  },
  {
   "cell_type": "code",
   "execution_count": null,
   "id": "42b4601a-3ab8-4494-a455-6d44e8db134b",
   "metadata": {},
   "outputs": [],
   "source": []
  }
 ],
 "metadata": {
  "kernelspec": {
   "display_name": "Python [conda env:base] *",
   "language": "python",
   "name": "conda-base-py"
  },
  "language_info": {
   "codemirror_mode": {
    "name": "ipython",
    "version": 3
   },
   "file_extension": ".py",
   "mimetype": "text/x-python",
   "name": "python",
   "nbconvert_exporter": "python",
   "pygments_lexer": "ipython3",
   "version": "3.12.2"
  }
 },
 "nbformat": 4,
 "nbformat_minor": 5
}
